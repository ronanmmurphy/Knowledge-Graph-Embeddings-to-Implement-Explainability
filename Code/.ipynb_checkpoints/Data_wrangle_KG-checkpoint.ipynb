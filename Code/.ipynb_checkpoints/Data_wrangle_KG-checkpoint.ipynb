{
 "cells": [
  {
   "cell_type": "code",
   "execution_count": null,
   "metadata": {},
   "outputs": [],
   "source": [
    "from google.colab import files\n",
    "uploaded = files.upload()"
   ]
  },
  {
   "cell_type": "code",
   "execution_count": null,
   "metadata": {
    "colab": {},
    "colab_type": "code",
    "id": "G-JRKOO6kjva"
   },
   "outputs": [],
   "source": [
    "# Code to read csv file into Colaboratory:\n",
    "!pip install -U -q PyDrive\n",
    "from pydrive.auth import GoogleAuth\n",
    "from pydrive.drive import GoogleDrive\n",
    "from google.colab import auth\n",
    "from oauth2client.client import GoogleCredentials\n",
    "# Authenticate and create the PyDrive client.\n",
    "auth.authenticate_user()\n",
    "gauth = GoogleAuth()\n",
    "gauth.credentials = GoogleCredentials.get_application_default()\n",
    "drive = GoogleDrive(gauth)"
   ]
  },
  {
   "cell_type": "code",
   "execution_count": null,
   "metadata": {
    "colab": {},
    "colab_type": "code",
    "id": "Zv4G31MaktcO"
   },
   "outputs": [],
   "source": [
    "id1 = ''#insert google IDs for dataset\n",
    "id2 = ''\n",
    "id3 = ''\n",
    "id4 = ''\n",
    "id5 = ''\n",
    "id6 = ''\n",
    "\n",
    "institute = drive.CreateFile({'id':id1}) \n",
    "institute.GetContentFile('instit.csv')\n",
    "df1 = pd.read_csv('instit.csv')  \n",
    "\n",
    "author = drive.CreateFile({'id':id2}) \n",
    "author.GetContentFile('auth.csv') \n",
    "df2 = pd.read_csv('auth.csv')\n",
    "\n",
    "concept = drive.CreateFile({'id':id3}) \n",
    "concept.GetContentFile('concept.csv') \n",
    "df3 = pd.read_csv('concept.csv')\n",
    "\n",
    "similar = drive.CreateFile({'id':id4}) \n",
    "similar.GetContentFile('sim.csv') \n",
    "df4 = pd.read_csv('sim.csv')\n",
    "\n",
    "cite = drive.CreateFile({'id':id5}) \n",
    "cite.GetContentFile('cite.csv') \n",
    "df5 = pd.read_csv('cite.csv')\n",
    "\n",
    "topic = drive.CreateFile({'id':id6}) \n",
    "topic.GetContentFile('topic.csv') \n",
    "df6 = pd.read_csv('topic.csv')\n"
   ]
  },
  {
   "cell_type": "code",
   "execution_count": null,
   "metadata": {
    "colab": {
     "base_uri": "https://localhost:8080/",
     "height": 221
    },
    "colab_type": "code",
    "id": "0ECSB7VahBwc",
    "outputId": "03f4ca68-2a13-4ced-a4a9-f7124d1cb4ae"
   },
   "outputs": [
    {
     "name": "stdout",
     "output_type": "stream",
     "text": [
      "                                    ~id  ... score:Float\n",
      "0  c5a84fb7-7e2b-49f2-b744-ed841595b5dc  ...      1.0000\n",
      "1  7bbf3f41-d087-48ee-b5bd-9ef748a8f5db  ...      0.9540\n",
      "2  a1ff3f90-cbcc-4ef6-a5fa-3fe28365ece2  ...      0.9927\n",
      "3  109c624f-a48d-4eb1-bcae-e247c4f84646  ...      0.8872\n",
      "4  6921f83a-050d-44f1-b5ad-ec5cdb8fb7c2  ...      0.6584\n",
      "\n",
      "[5 rows x 5 columns]\n",
      "relation\n",
      "subject\n",
      "object\n",
      "score\n"
     ]
    }
   ],
   "source": [
    "#print(df6.head(10))\n",
    "\n",
    "#rearrange the columns and remove uneccaary ones\n",
    "\n",
    "#combine and save as a single csv file save to google drive with the scores\n",
    "print(df6.head())\n",
    "del df6['~id']\n",
    "df6.columns= [\"relation\", \"subject\", \"object\",\"score\"]\n",
    "for col in df6.columns: \n",
    "    print(col) \n",
    "\n",
    "columns_titles = [\"subject\", \"relation\", \"object\", \"score\"]\n",
    "df6=df6.reindex(columns=columns_titles)\n"
   ]
  },
  {
   "cell_type": "code",
   "execution_count": null,
   "metadata": {
    "colab": {
     "base_uri": "https://localhost:8080/",
     "height": 221
    },
    "colab_type": "code",
    "id": "zx7l9Yuc6PEA",
    "outputId": "6d174d56-f093-4ba7-8ca7-fd65638e4cff"
   },
   "outputs": [
    {
     "name": "stdout",
     "output_type": "stream",
     "text": [
      "subject\n",
      "relation\n",
      "object\n",
      "score\n",
      "                                subject  ...   score\n",
      "0  b2d29ec4-caa3-438a-897c-445f5b8c1314  ...  1.0000\n",
      "1  01c20e5d-f3e2-42bf-bd58-bbac101316d0  ...  0.9540\n",
      "2  d42ae2ea-559d-4832-895a-9c46bb00f3ba  ...  0.9927\n",
      "3  d42ae2ea-559d-4832-895a-9c46bb00f3ba  ...  0.8872\n",
      "4  d42ae2ea-559d-4832-895a-9c46bb00f3ba  ...  0.6584\n",
      "\n",
      "[5 rows x 4 columns]\n"
     ]
    }
   ],
   "source": [
    "for col in df6.columns: \n",
    "    print(col) \n",
    "\n",
    "print(df6.head())"
   ]
  },
  {
   "cell_type": "code",
   "execution_count": null,
   "metadata": {
    "colab": {},
    "colab_type": "code",
    "id": "C4Sc1W79-DKc"
   },
   "outputs": [],
   "source": [
    "frames = [df1, df2, df3, df4, df5, df6]\n",
    "\n",
    "result = pd.concat(frames)\n",
    "result.reset_index(inplace=True, drop=True)"
   ]
  },
  {
   "cell_type": "code",
   "execution_count": null,
   "metadata": {
    "colab": {
     "base_uri": "https://localhost:8080/",
     "height": 102
    },
    "colab_type": "code",
    "id": "4ykEOiS2_R1E",
    "outputId": "67d5132c-cd95-4023-e5b4-60b8df873a26"
   },
   "outputs": [
    {
     "name": "stdout",
     "output_type": "stream",
     "text": [
      "2771525\n",
      "                                subject  ... score\n",
      "0  1d798c5d-dedf-405f-9246-eed1cf38ed6e  ...   NaN\n",
      "\n",
      "[1 rows x 4 columns]\n"
     ]
    }
   ],
   "source": [
    "print(len(result))\n",
    "print(result.loc[[0]])"
   ]
  },
  {
   "cell_type": "code",
   "execution_count": null,
   "metadata": {},
   "outputs": [],
   "source": [
    "from google.colab import drive\n",
    "drive.mount('drive')"
   ]
  },
  {
   "cell_type": "code",
   "execution_count": null,
   "metadata": {
    "colab": {},
    "colab_type": "code",
    "id": "84TWBfJPCk2u"
   },
   "outputs": [],
   "source": [
    "#result.to_csv('dataset.csv', index=False)\n",
    "\n",
    "!cp dataset.csv \"drive/My Drive/Masters_Project\""
   ]
  },
  {
   "cell_type": "code",
   "execution_count": null,
   "metadata": {},
   "outputs": [],
   "source": [
    "from google.colab import drive\n",
    "drive.mount('drive')"
   ]
  },
  {
   "cell_type": "code",
   "execution_count": null,
   "metadata": {
    "colab": {
     "base_uri": "https://localhost:8080/",
     "height": 306
    },
    "colab_type": "code",
    "id": "q4OQkByOE7PU",
    "outputId": "ddc98d3f-4fce-4a57-d6c4-8a33f1cf0a13"
   },
   "outputs": [
    {
     "name": "stdout",
     "output_type": "stream",
     "text": [
      "                                subject  ... score\n",
      "0  1d798c5d-dedf-405f-9246-eed1cf38ed6e  ...   NaN\n",
      "1  1d304ff5-6f22-40e7-83c4-a40cc6b40af2  ...   NaN\n",
      "2  dd4d756c-d58e-48ab-9e0a-4198f5b63f65  ...   NaN\n",
      "3  ab05d4a7-c9f2-41cd-94fd-37630b7b159e  ...   NaN\n",
      "4  e4a37fbb-637e-407b-8589-98a6b8b8603d  ...   NaN\n",
      "5  c995e123-470e-42b7-aac2-5fbb87c472fb  ...   NaN\n",
      "6  410510ba-a246-4cf2-a99a-ab588fdc9ade  ...   NaN\n",
      "7  29601f36-cece-44f5-b381-6dd7de0a0e79  ...   NaN\n",
      "8  2520933a-b976-4efd-89d6-46ed6a10e8f8  ...   NaN\n",
      "9  1ea4551d-e9ac-489c-8ff7-2558c97de7a0  ...   NaN\n",
      "\n",
      "[10 rows x 4 columns]\n",
      "subject\n",
      "relation\n",
      "object\n",
      "score\n"
     ]
    }
   ],
   "source": [
    "path = '/content/drive/My Drive/Masters_Project/dataset.csv'\n",
    "df_bonus = pd.read_csv(path)\n",
    "print(df_bonus.head(10))\n",
    "for col in df_bonus.columns: \n",
    "    print(col) "
   ]
  },
  {
   "cell_type": "markdown",
   "metadata": {
    "colab_type": "text",
    "id": "1HUu0M74nOB4"
   },
   "source": [
    "PART 2 - Data Wrangle of Node Files for extra edges"
   ]
  },
  {
   "cell_type": "code",
   "execution_count": null,
   "metadata": {},
   "outputs": [],
   "source": [
    "# Code to read csv file into Colaboratory:\n",
    "!pip install -U -q PyDrive\n",
    "from pydrive.auth import GoogleAuth\n",
    "from pydrive.drive import GoogleDrive\n",
    "from google.colab import auth\n",
    "from oauth2client.client import GoogleCredentials\n",
    "# Authenticate and create the PyDrive client.\n",
    "auth.authenticate_user()\n",
    "gauth = GoogleAuth()\n",
    "gauth.credentials = GoogleCredentials.get_application_default()\n",
    "drive = GoogleDrive(gauth)"
   ]
  },
  {
   "cell_type": "code",
   "execution_count": null,
   "metadata": {
    "colab": {},
    "colab_type": "code",
    "id": "SF5ZIR-6sWAi"
   },
   "outputs": [],
   "source": [
    "import pandas as pd\n",
    "node_id1 = '' #insert data google drive links\n",
    "\n",
    "node_id2 = ''\n",
    "\n",
    "node_id3 = ''\n",
    " \n",
    "node_id4 = ''\n",
    "\n",
    "node_id5 = '\n",
    "\n",
    "\n",
    "\n",
    "topic_node = drive.CreateFile({'id':node_id1}) \n",
    "topic_node.GetContentFile('tp.csv')\n",
    "d1 = pd.read_csv('tp.csv')  \n",
    "\n",
    "paper_node = drive.CreateFile({'id':node_id2}) \n",
    "paper_node.GetContentFile('pp.csv') \n",
    "d2 = pd.read_csv('pp.csv')\n",
    "\n",
    "author_node = drive.CreateFile({'id':node_id3}) \n",
    "author_node.GetContentFile('at.csv') \n",
    "d3 = pd.read_csv('at.csv')\n",
    "\n",
    "instit_node = drive.CreateFile({'id':node_id4}) \n",
    "instit_node.GetContentFile('in.csv') \n",
    "d4 = pd.read_csv('in.csv')\n",
    "\n",
    "concept_node = drive.CreateFile({'id':node_id5}) \n",
    "concept_node.GetContentFile('cp.csv') \n",
    "d5 = pd.read_csv('cp.csv')"
   ]
  },
  {
   "cell_type": "code",
   "execution_count": null,
   "metadata": {
    "colab": {
     "base_uri": "https://localhost:8080/",
     "height": 306
    },
    "colab_type": "code",
    "id": "l5aatI3BtpzR",
    "outputId": "e74551c6-97ab-4eb4-8986-f1f18a18afc6"
   },
   "outputs": [
    {
     "name": "stdout",
     "output_type": "stream",
     "text": [
      "                                    subject  ...                                             object\n",
      "0      184966b9-c04c-4df5-ae54-ffde72a56202  ...  Mawlana Bhashani Science and Technology Univer...\n",
      "1      d7c2de28-c171-4cd6-86d1-1fe957ebabb9  ...                                  Khulna University\n",
      "2      25d0debf-1456-47da-ad30-03fca5e53670  ...                                University of Dhaka\n",
      "3      b657c9b8-8405-4d6a-b09b-bd04e6e52763  ...                                         Bangladesh\n",
      "4      a7c0830f-8dd6-42c1-88e0-53d6d6344f48  ...  Rothman Orthopaedic Institute at Thomas Jeffer...\n",
      "...                                     ...  ...                                                ...\n",
      "29784  9c154cf9-d05b-4583-a6f8-1a06eab1c490  ...                                             France\n",
      "29785  6509b153-42fb-444a-b1a6-75f6736f1ab3  ...                                             France\n",
      "29835  eab13ee1-ba5e-41d7-8d38-f89d27f63e07  ...          Landwirtschaftskammer Nordrhein-Westfalen\n",
      "29920  4aac3adb-80cd-4ab0-a775-3b64c372dd4b  ...                                              Italy\n",
      "29921  05f7bfe6-5245-4093-88a3-2c8b7ae92354  ...                                              Italy\n",
      "\n",
      "[27785 rows x 3 columns]\n",
      "subject\n",
      "relation\n",
      "object\n"
     ]
    }
   ],
   "source": [
    "print(d4)\n",
    "#del d4['institution:String']\n",
    "#d4.columns= [\"subject\", \"relation\", \"object\"]\n",
    "for col in d4.columns: \n",
    "    print(col) \n",
    "#d4 = d4[d4['new_col'].notna()]\n",
    "#columns_titles = [\"subject\", \"relation\", \"object\", \"score\"]\n",
    "#df6=df6.reindex(columns=columns_titles)\n",
    "#d4['new_col'] = d4['institution:String'].fillna(d4['country:String'])\n"
   ]
  },
  {
   "cell_type": "code",
   "execution_count": null,
   "metadata": {
    "colab": {},
    "colab_type": "code",
    "id": "l4kWJNlt98iN"
   },
   "outputs": [],
   "source": [
    "frames_nodes = [d1, d2, d3, d4, d5]\n",
    "\n",
    "result_node = pd.concat(frames_nodes)\n",
    "result_node.reset_index(inplace=True, drop=True)"
   ]
  },
  {
   "cell_type": "code",
   "execution_count": null,
   "metadata": {
    "colab": {
     "base_uri": "https://localhost:8080/",
     "height": 102
    },
    "colab_type": "code",
    "id": "dN7E6Wkv-Nln",
    "outputId": "e92f5187-eb9b-417c-ded4-91392585395b"
   },
   "outputs": [
    {
     "name": "stdout",
     "output_type": "stream",
     "text": [
      "396737\n",
      "                                   subject  ...                                             object\n",
      "1000  8b3fd9d1-8864-46ce-a5c4-6cd6327489af  ...  Effects of randomness on viral infection model...\n",
      "\n",
      "[1 rows x 3 columns]\n"
     ]
    }
   ],
   "source": [
    "result_node = result_node[result_node['object'].notna()]\n",
    "print(len(result_node))\n",
    "print(result_node.loc[[1000]])"
   ]
  },
  {
   "cell_type": "code",
   "execution_count": null,
   "metadata": {},
   "outputs": [],
   "source": [
    "from google.colab import drive\n",
    "drive.mount('drive')"
   ]
  },
  {
   "cell_type": "code",
   "execution_count": null,
   "metadata": {
    "colab": {},
    "colab_type": "code",
    "id": "v0Q8WDw_-9Ny"
   },
   "outputs": [],
   "source": [
    "#result_node.to_csv('dataset_entities.csv', index=False)\n",
    "\n",
    "!cp dataset_entities.csv \"drive/My Drive/Masters_Project\""
   ]
  },
  {
   "cell_type": "code",
   "execution_count": null,
   "metadata": {
    "colab": {},
    "colab_type": "code",
    "id": "02w8zrHEhwbb"
   },
   "outputs": [],
   "source": [
    "#Load the two datasets and join\n",
    "relations_data = ''#insert google drive links\n",
    "\n",
    "entities_data = ''\n",
    "\n",
    "\n",
    "\n",
    "data1 = drive.CreateFile({'id':relations_data}) \n",
    "data1.GetContentFile('relation_dat.csv')\n",
    "df_rel = pd.read_csv('relation_dat.csv')  \n",
    "\n",
    "data2 = drive.CreateFile({'id':entities_data}) \n",
    "data2.GetContentFile('entity_dat.csv') \n",
    "df_ent = pd.read_csv('entity_dat.csv')\n"
   ]
  },
  {
   "cell_type": "code",
   "execution_count": null,
   "metadata": {
    "colab": {
     "base_uri": "https://localhost:8080/",
     "height": 255
    },
    "colab_type": "code",
    "id": "SVItOTkjjcFB",
    "outputId": "50f4c5ac-e7f1-4d57-b2f3-8e7e3110b093"
   },
   "outputs": [
    {
     "name": "stdout",
     "output_type": "stream",
     "text": [
      "                                subject  ... score\n",
      "0  1d798c5d-dedf-405f-9246-eed1cf38ed6e  ...   NaN\n",
      "1  1d304ff5-6f22-40e7-83c4-a40cc6b40af2  ...   NaN\n",
      "2  dd4d756c-d58e-48ab-9e0a-4198f5b63f65  ...   NaN\n",
      "3  ab05d4a7-c9f2-41cd-94fd-37630b7b159e  ...   NaN\n",
      "4  e4a37fbb-637e-407b-8589-98a6b8b8603d  ...   NaN\n",
      "\n",
      "[5 rows x 4 columns]\n",
      "                                subject relation                  object\n",
      "0  ed0fbd02-ccff-4e13-8381-e44708494382    Topic                genomics\n",
      "1  009368ed-d4d2-4b87-908d-42529c39dbf3    Topic            epidemiology\n",
      "2  ddc3abdc-82ad-4c4b-b87c-07f54d8d5dc9    Topic  public-health-policies\n",
      "3  d494d90a-b28d-4e93-a74a-fa35be21e5d3    Topic        lab-trials-human\n",
      "4  91c0d427-82bd-433a-8859-7b3e2cfebf4c    Topic     healthcare-industry\n"
     ]
    }
   ],
   "source": [
    "print(df_rel.head())\n",
    "print(df_ent.head())\n",
    "\n",
    "data = [df_rel, df_ent]\n",
    "full_data = pd.concat(data)\n",
    "full_data.reset_index(inplace=True, drop=True)\n"
   ]
  },
  {
   "cell_type": "code",
   "execution_count": null,
   "metadata": {
    "colab": {
     "base_uri": "https://localhost:8080/",
     "height": 51
    },
    "colab_type": "code",
    "id": "JVtQcOS1kZtT",
    "outputId": "24abedb6-5a72-494a-b410-f76906139033"
   },
   "outputs": [
    {
     "name": "stdout",
     "output_type": "stream",
     "text": [
      "3168262\n",
      "3168262\n"
     ]
    }
   ],
   "source": [
    "print(len(full_data))\n",
    "\n",
    "full_data = full_data[full_data['object'].notna()]\n",
    "\n",
    "print(len(full_data))"
   ]
  },
  {
   "cell_type": "code",
   "execution_count": null,
   "metadata": {
    "colab": {},
    "colab_type": "code",
    "id": "h_fMMXWBmGMX"
   },
   "outputs": [],
   "source": [
    "#full_data.to_csv('full_dataset.csv', index=False)\n",
    "\n",
    "!cp full_dataset.csv \"drive/My Drive/Masters_Project\""
   ]
  },
  {
   "cell_type": "code",
   "execution_count": null,
   "metadata": {
    "colab": {},
    "colab_type": "code",
    "id": "XqD3ObDG4UNT"
   },
   "outputs": [],
   "source": [
    "import pandas as pd\n",
    "full_id = ''#insert google drive link\n",
    "\n",
    "dd = drive.CreateFile({'id':full_id}) \n",
    "dd.GetContentFile('full_dataset.csv')\n",
    "df_full = pd.read_csv('full_dataset.csv') \n",
    "\n"
   ]
  },
  {
   "cell_type": "code",
   "execution_count": null,
   "metadata": {
    "colab": {
     "base_uri": "https://localhost:8080/",
     "height": 34
    },
    "colab_type": "code",
    "id": "L_aoFXDZ4ri5",
    "outputId": "e9231b57-ddc5-4305-e36f-16c614f1b8df"
   },
   "outputs": [
    {
     "name": "stdout",
     "output_type": "stream",
     "text": [
      "3168262\n"
     ]
    }
   ],
   "source": [
    "print(len(df_full))\n",
    "#del df_full['score']"
   ]
  },
  {
   "cell_type": "code",
   "execution_count": null,
   "metadata": {
    "colab": {},
    "colab_type": "code",
    "id": "uOLaYzTr5X3l"
   },
   "outputs": [],
   "source": [
    "df_full.to_csv('noscore_dataset.csv', index=False)\n",
    "\n",
    "!cp noscore_dataset.csv \"drive/My Drive/Masters_Project\""
   ]
  },
  {
   "cell_type": "code",
   "execution_count": null,
   "metadata": {},
   "outputs": [],
   "source": [
    "from google.colab import files\n",
    "uploaded = files.upload()"
   ]
  },
  {
   "cell_type": "markdown",
   "metadata": {
    "colab_type": "text",
    "id": "UW66QxH-Q5sh"
   },
   "source": [
    "Remove relations which have entities not used more than 5 times"
   ]
  },
  {
   "cell_type": "code",
   "execution_count": null,
   "metadata": {},
   "outputs": [],
   "source": [
    "#connect to google drive to retrieve dataset\n",
    "!pip install -U -q PyDrive\n",
    "from pydrive.auth import GoogleAuth\n",
    "from pydrive.drive import GoogleDrive\n",
    "from google.colab import auth\n",
    "from oauth2client.client import GoogleCredentials\n",
    "# Authenticate and create the PyDrive client.\n",
    "auth.authenticate_user()\n",
    "gauth = GoogleAuth()\n",
    "gauth.credentials = GoogleCredentials.get_application_default()\n",
    "drive = GoogleDrive(gauth)\n",
    "\n"
   ]
  },
  {
   "cell_type": "code",
   "execution_count": null,
   "metadata": {
    "colab": {},
    "colab_type": "code",
    "id": "kGjEFkh_rQCV"
   },
   "outputs": [],
   "source": [
    "import pandas as pd\n",
    "idd = '19czOH-00bA2E4epgfsdBkI9MJDFlE5j_'\n",
    "csv = drive.CreateFile({'id':idd}) \n",
    "csv.GetContentFile('data.csv')\n",
    "df = pd.read_csv('data.csv') "
   ]
  },
  {
   "cell_type": "code",
   "execution_count": null,
   "metadata": {
    "colab": {
     "base_uri": "https://localhost:8080/",
     "height": 272
    },
    "colab_type": "code",
    "id": "PFESn5JAkv_F",
    "outputId": "1b65785a-5028-4372-b4a8-13cd404d5030"
   },
   "outputs": [
    {
     "name": "stdout",
     "output_type": "stream",
     "text": [
      "3168262\n",
      "6336524\n",
      "        variable                        value\n",
      "6336514   object  respiratory virus circulate\n",
      "6336515   object                        cakvs\n",
      "6336516   object                adjuvant drug\n",
      "6336517   object     peripheral demyelination\n",
      "6336518   object           nutrient depletion\n",
      "6336519   object            amplicon analysis\n",
      "6336520   object              astragali radix\n",
      "6336521   object     immunity to re-infection\n",
      "6336522   object                     hrv test\n",
      "6336523   object               gbs meningitis\n",
      "variable\n",
      "value\n"
     ]
    }
   ],
   "source": [
    "print(len(df))\n",
    "gg = pd.melt(df[['subject', 'object']])\n",
    "print(len(gg))\n",
    "print(gg.tail(10))\n",
    "for col in gg.columns: \n",
    "    print(col)"
   ]
  },
  {
   "cell_type": "code",
   "execution_count": null,
   "metadata": {
    "colab": {},
    "colab_type": "code",
    "id": "kqKQo8yzqsrG"
   },
   "outputs": [],
   "source": [
    "#gg.apply(pd.value_counts, axis =1)\n",
    "gg['freq'] = gg.groupby('value')['value'].transform('count')"
   ]
  },
  {
   "cell_type": "code",
   "execution_count": null,
   "metadata": {
    "colab": {
     "base_uri": "https://localhost:8080/",
     "height": 119
    },
    "colab_type": "code",
    "id": "_tqalH3_tAiy",
    "outputId": "c9c1fabf-f98c-4e6c-b3ce-c88c4b2dfab8"
   },
   "outputs": [
    {
     "name": "stdout",
     "output_type": "stream",
     "text": [
      "  variable                                 value  freq\n",
      "0  subject  1d798c5d-dedf-405f-9246-eed1cf38ed6e     4\n",
      "1  subject  1d304ff5-6f22-40e7-83c4-a40cc6b40af2    11\n",
      "2  subject  dd4d756c-d58e-48ab-9e0a-4198f5b63f65     3\n",
      "3  subject  ab05d4a7-c9f2-41cd-94fd-37630b7b159e     3\n",
      "4  subject  e4a37fbb-637e-407b-8589-98a6b8b8603d     3\n"
     ]
    }
   ],
   "source": [
    "print(gg.head())"
   ]
  },
  {
   "cell_type": "code",
   "execution_count": null,
   "metadata": {
    "colab": {
     "base_uri": "https://localhost:8080/",
     "height": 391
    },
    "colab_type": "code",
    "id": "GIXqPucotWpd",
    "outputId": "2fdd0574-f09d-4ca8-cbc9-b91ef87f66e5"
   },
   "outputs": [
    {
     "name": "stdout",
     "output_type": "stream",
     "text": [
      "3168261\n",
      "  variable                                 value  freq\n",
      "0  subject  1d798c5d-dedf-405f-9246-eed1cf38ed6e     4\n",
      "1  subject  1d304ff5-6f22-40e7-83c4-a40cc6b40af2    11\n",
      "2  subject  dd4d756c-d58e-48ab-9e0a-4198f5b63f65     3\n",
      "3  subject  ab05d4a7-c9f2-41cd-94fd-37630b7b159e     3\n",
      "4  subject  e4a37fbb-637e-407b-8589-98a6b8b8603d     3\n",
      "3168262.0\n",
      "                                      subject  ... object_count\n",
      "0        1d798c5d-dedf-405f-9246-eed1cf38ed6e  ...          134\n",
      "1        1d304ff5-6f22-40e7-83c4-a40cc6b40af2  ...           17\n",
      "2        dd4d756c-d58e-48ab-9e0a-4198f5b63f65  ...           20\n",
      "3        ab05d4a7-c9f2-41cd-94fd-37630b7b159e  ...           56\n",
      "4        e4a37fbb-637e-407b-8589-98a6b8b8603d  ...           45\n",
      "...                                       ...  ...          ...\n",
      "3168257  509d8993-3712-4203-aba0-701a1f69a8f6  ...            1\n",
      "3168258  7cba724f-23b8-44d1-9741-0a5e87bb9026  ...            1\n",
      "3168259  6b0c9eca-4f16-40d7-8c7f-38695181d467  ...            1\n",
      "3168260  cb29bcc6-2597-4976-ac54-01c14f5999f6  ...            1\n",
      "3168261  bb2fc7d8-242f-4fb0-b6b5-719338a3d8e4  ...            1\n",
      "\n",
      "[3168262 rows x 5 columns]\n"
     ]
    }
   ],
   "source": [
    "df['subject_count'] = gg['freq'][0:3168262]\n",
    "df['object_count'] = gg['freq'][3168262:6336524].reset_index(drop = True) \n",
    "print(len(gg['freq'][0:3168261]))\n",
    "print(gg.head())\n",
    "print((len(gg))/2)\n",
    "print(df)"
   ]
  },
  {
   "cell_type": "code",
   "execution_count": null,
   "metadata": {
    "colab": {},
    "colab_type": "code",
    "id": "7HYRsxrayvjF"
   },
   "outputs": [],
   "source": [
    "df =df[(df.subject_count >= 10) & (df.object_count >= 10)]"
   ]
  },
  {
   "cell_type": "code",
   "execution_count": null,
   "metadata": {
    "colab": {
     "base_uri": "https://localhost:8080/",
     "height": 419
    },
    "colab_type": "code",
    "id": "f4r9zhyjy7r0",
    "outputId": "363d5931-010b-4edf-d214-2ece6d44e7e7"
   },
   "outputs": [
    {
     "data": {
      "text/html": [
       "<div>\n",
       "<style scoped>\n",
       "    .dataframe tbody tr th:only-of-type {\n",
       "        vertical-align: middle;\n",
       "    }\n",
       "\n",
       "    .dataframe tbody tr th {\n",
       "        vertical-align: top;\n",
       "    }\n",
       "\n",
       "    .dataframe thead th {\n",
       "        text-align: right;\n",
       "    }\n",
       "</style>\n",
       "<table border=\"1\" class=\"dataframe\">\n",
       "  <thead>\n",
       "    <tr style=\"text-align: right;\">\n",
       "      <th></th>\n",
       "      <th>subject</th>\n",
       "      <th>relation</th>\n",
       "      <th>object</th>\n",
       "      <th>subject_count</th>\n",
       "      <th>object_count</th>\n",
       "    </tr>\n",
       "  </thead>\n",
       "  <tbody>\n",
       "    <tr>\n",
       "      <th>0</th>\n",
       "      <td>1d304ff5-6f22-40e7-83c4-a40cc6b40af2</td>\n",
       "      <td>affiliated_with</td>\n",
       "      <td>483b277e-323a-4ddc-bba7-ec3675b73d25</td>\n",
       "      <td>11</td>\n",
       "      <td>17</td>\n",
       "    </tr>\n",
       "    <tr>\n",
       "      <th>1</th>\n",
       "      <td>2520933a-b976-4efd-89d6-46ed6a10e8f8</td>\n",
       "      <td>affiliated_with</td>\n",
       "      <td>9e2b25d9-bbb0-4b9a-8b24-38a4324d16c9</td>\n",
       "      <td>23</td>\n",
       "      <td>714</td>\n",
       "    </tr>\n",
       "    <tr>\n",
       "      <th>2</th>\n",
       "      <td>b3987bbd-9c22-47ee-a5f7-cc94767dd976</td>\n",
       "      <td>affiliated_with</td>\n",
       "      <td>b4e97a3b-2abb-406c-8fa5-9b5372b0e163</td>\n",
       "      <td>10</td>\n",
       "      <td>1207</td>\n",
       "    </tr>\n",
       "    <tr>\n",
       "      <th>3</th>\n",
       "      <td>8cd4d014-dea0-43e3-89d1-c5e0b7833ebb</td>\n",
       "      <td>affiliated_with</td>\n",
       "      <td>4bc595e9-0d42-487d-924a-3a516e79fcab</td>\n",
       "      <td>10</td>\n",
       "      <td>333</td>\n",
       "    </tr>\n",
       "    <tr>\n",
       "      <th>4</th>\n",
       "      <td>f77eb4d9-7e51-42f6-8036-34884772f6c1</td>\n",
       "      <td>affiliated_with</td>\n",
       "      <td>5e634942-a74a-41ad-bea7-03c91e604fb6</td>\n",
       "      <td>16</td>\n",
       "      <td>13</td>\n",
       "    </tr>\n",
       "    <tr>\n",
       "      <th>...</th>\n",
       "      <td>...</td>\n",
       "      <td>...</td>\n",
       "      <td>...</td>\n",
       "      <td>...</td>\n",
       "      <td>...</td>\n",
       "    </tr>\n",
       "    <tr>\n",
       "      <th>2064271</th>\n",
       "      <td>6dc27084-dc1c-4786-9356-7564e55f15a1</td>\n",
       "      <td>Institution</td>\n",
       "      <td>United States of America</td>\n",
       "      <td>114</td>\n",
       "      <td>14</td>\n",
       "    </tr>\n",
       "    <tr>\n",
       "      <th>2064272</th>\n",
       "      <td>0c62f660-f24a-4439-9f5c-3c0747074020</td>\n",
       "      <td>Institution</td>\n",
       "      <td>United Kingdom</td>\n",
       "      <td>14</td>\n",
       "      <td>72</td>\n",
       "    </tr>\n",
       "    <tr>\n",
       "      <th>2064273</th>\n",
       "      <td>bda7bf99-fd4e-4e9d-97d4-438f7c124616</td>\n",
       "      <td>Concept</td>\n",
       "      <td>Infectious Diseases</td>\n",
       "      <td>224</td>\n",
       "      <td>12</td>\n",
       "    </tr>\n",
       "    <tr>\n",
       "      <th>2064274</th>\n",
       "      <td>ad3e9611-1d18-4198-9676-8d609fe9e155</td>\n",
       "      <td>Concept</td>\n",
       "      <td>Pneumonia</td>\n",
       "      <td>782</td>\n",
       "      <td>17</td>\n",
       "    </tr>\n",
       "    <tr>\n",
       "      <th>2064275</th>\n",
       "      <td>6f01b156-b744-4c4a-8f6d-a34c3aa563f2</td>\n",
       "      <td>Concept</td>\n",
       "      <td>USA</td>\n",
       "      <td>16</td>\n",
       "      <td>437</td>\n",
       "    </tr>\n",
       "  </tbody>\n",
       "</table>\n",
       "<p>2064276 rows × 5 columns</p>\n",
       "</div>"
      ],
      "text/plain": [
       "                                      subject  ... object_count\n",
       "0        1d304ff5-6f22-40e7-83c4-a40cc6b40af2  ...           17\n",
       "1        2520933a-b976-4efd-89d6-46ed6a10e8f8  ...          714\n",
       "2        b3987bbd-9c22-47ee-a5f7-cc94767dd976  ...         1207\n",
       "3        8cd4d014-dea0-43e3-89d1-c5e0b7833ebb  ...          333\n",
       "4        f77eb4d9-7e51-42f6-8036-34884772f6c1  ...           13\n",
       "...                                       ...  ...          ...\n",
       "2064271  6dc27084-dc1c-4786-9356-7564e55f15a1  ...           14\n",
       "2064272  0c62f660-f24a-4439-9f5c-3c0747074020  ...           72\n",
       "2064273  bda7bf99-fd4e-4e9d-97d4-438f7c124616  ...           12\n",
       "2064274  ad3e9611-1d18-4198-9676-8d609fe9e155  ...           17\n",
       "2064275  6f01b156-b744-4c4a-8f6d-a34c3aa563f2  ...          437\n",
       "\n",
       "[2064276 rows x 5 columns]"
      ]
     },
     "execution_count": 19,
     "metadata": {
      "tags": []
     },
     "output_type": "execute_result"
    }
   ],
   "source": [
    "df.reset_index(drop = True) "
   ]
  },
  {
   "cell_type": "code",
   "execution_count": null,
   "metadata": {
    "colab": {},
    "colab_type": "code",
    "id": "-cV1fx4pzUmV"
   },
   "outputs": [],
   "source": [
    "df = df[['subject','relation','object']]"
   ]
  },
  {
   "cell_type": "code",
   "execution_count": null,
   "metadata": {
    "colab": {},
    "colab_type": "code",
    "id": "KNuAL5sNza12"
   },
   "outputs": [],
   "source": [
    "df = df.reset_index(drop = True) "
   ]
  },
  {
   "cell_type": "code",
   "execution_count": null,
   "metadata": {
    "colab": {
     "base_uri": "https://localhost:8080/",
     "height": 419
    },
    "colab_type": "code",
    "id": "jMcON5g9zjEM",
    "outputId": "a60b7638-6c5a-4ddb-81f4-4c70ae68d02d"
   },
   "outputs": [
    {
     "data": {
      "text/html": [
       "<div>\n",
       "<style scoped>\n",
       "    .dataframe tbody tr th:only-of-type {\n",
       "        vertical-align: middle;\n",
       "    }\n",
       "\n",
       "    .dataframe tbody tr th {\n",
       "        vertical-align: top;\n",
       "    }\n",
       "\n",
       "    .dataframe thead th {\n",
       "        text-align: right;\n",
       "    }\n",
       "</style>\n",
       "<table border=\"1\" class=\"dataframe\">\n",
       "  <thead>\n",
       "    <tr style=\"text-align: right;\">\n",
       "      <th></th>\n",
       "      <th>subject</th>\n",
       "      <th>relation</th>\n",
       "      <th>object</th>\n",
       "    </tr>\n",
       "  </thead>\n",
       "  <tbody>\n",
       "    <tr>\n",
       "      <th>0</th>\n",
       "      <td>1d304ff5-6f22-40e7-83c4-a40cc6b40af2</td>\n",
       "      <td>affiliated_with</td>\n",
       "      <td>483b277e-323a-4ddc-bba7-ec3675b73d25</td>\n",
       "    </tr>\n",
       "    <tr>\n",
       "      <th>1</th>\n",
       "      <td>2520933a-b976-4efd-89d6-46ed6a10e8f8</td>\n",
       "      <td>affiliated_with</td>\n",
       "      <td>9e2b25d9-bbb0-4b9a-8b24-38a4324d16c9</td>\n",
       "    </tr>\n",
       "    <tr>\n",
       "      <th>2</th>\n",
       "      <td>b3987bbd-9c22-47ee-a5f7-cc94767dd976</td>\n",
       "      <td>affiliated_with</td>\n",
       "      <td>b4e97a3b-2abb-406c-8fa5-9b5372b0e163</td>\n",
       "    </tr>\n",
       "    <tr>\n",
       "      <th>3</th>\n",
       "      <td>8cd4d014-dea0-43e3-89d1-c5e0b7833ebb</td>\n",
       "      <td>affiliated_with</td>\n",
       "      <td>4bc595e9-0d42-487d-924a-3a516e79fcab</td>\n",
       "    </tr>\n",
       "    <tr>\n",
       "      <th>4</th>\n",
       "      <td>f77eb4d9-7e51-42f6-8036-34884772f6c1</td>\n",
       "      <td>affiliated_with</td>\n",
       "      <td>5e634942-a74a-41ad-bea7-03c91e604fb6</td>\n",
       "    </tr>\n",
       "    <tr>\n",
       "      <th>...</th>\n",
       "      <td>...</td>\n",
       "      <td>...</td>\n",
       "      <td>...</td>\n",
       "    </tr>\n",
       "    <tr>\n",
       "      <th>2064271</th>\n",
       "      <td>6dc27084-dc1c-4786-9356-7564e55f15a1</td>\n",
       "      <td>Institution</td>\n",
       "      <td>United States of America</td>\n",
       "    </tr>\n",
       "    <tr>\n",
       "      <th>2064272</th>\n",
       "      <td>0c62f660-f24a-4439-9f5c-3c0747074020</td>\n",
       "      <td>Institution</td>\n",
       "      <td>United Kingdom</td>\n",
       "    </tr>\n",
       "    <tr>\n",
       "      <th>2064273</th>\n",
       "      <td>bda7bf99-fd4e-4e9d-97d4-438f7c124616</td>\n",
       "      <td>Concept</td>\n",
       "      <td>Infectious Diseases</td>\n",
       "    </tr>\n",
       "    <tr>\n",
       "      <th>2064274</th>\n",
       "      <td>ad3e9611-1d18-4198-9676-8d609fe9e155</td>\n",
       "      <td>Concept</td>\n",
       "      <td>Pneumonia</td>\n",
       "    </tr>\n",
       "    <tr>\n",
       "      <th>2064275</th>\n",
       "      <td>6f01b156-b744-4c4a-8f6d-a34c3aa563f2</td>\n",
       "      <td>Concept</td>\n",
       "      <td>USA</td>\n",
       "    </tr>\n",
       "  </tbody>\n",
       "</table>\n",
       "<p>2064276 rows × 3 columns</p>\n",
       "</div>"
      ],
      "text/plain": [
       "                                      subject  ...                                object\n",
       "0        1d304ff5-6f22-40e7-83c4-a40cc6b40af2  ...  483b277e-323a-4ddc-bba7-ec3675b73d25\n",
       "1        2520933a-b976-4efd-89d6-46ed6a10e8f8  ...  9e2b25d9-bbb0-4b9a-8b24-38a4324d16c9\n",
       "2        b3987bbd-9c22-47ee-a5f7-cc94767dd976  ...  b4e97a3b-2abb-406c-8fa5-9b5372b0e163\n",
       "3        8cd4d014-dea0-43e3-89d1-c5e0b7833ebb  ...  4bc595e9-0d42-487d-924a-3a516e79fcab\n",
       "4        f77eb4d9-7e51-42f6-8036-34884772f6c1  ...  5e634942-a74a-41ad-bea7-03c91e604fb6\n",
       "...                                       ...  ...                                   ...\n",
       "2064271  6dc27084-dc1c-4786-9356-7564e55f15a1  ...              United States of America\n",
       "2064272  0c62f660-f24a-4439-9f5c-3c0747074020  ...                        United Kingdom\n",
       "2064273  bda7bf99-fd4e-4e9d-97d4-438f7c124616  ...                   Infectious Diseases\n",
       "2064274  ad3e9611-1d18-4198-9676-8d609fe9e155  ...                             Pneumonia\n",
       "2064275  6f01b156-b744-4c4a-8f6d-a34c3aa563f2  ...                                   USA\n",
       "\n",
       "[2064276 rows x 3 columns]"
      ]
     },
     "execution_count": 22,
     "metadata": {
      "tags": []
     },
     "output_type": "execute_result"
    }
   ],
   "source": [
    "df"
   ]
  },
  {
   "cell_type": "code",
   "execution_count": null,
   "metadata": {},
   "outputs": [],
   "source": [
    "from google.colab import drive\n",
    "drive.mount('drive')"
   ]
  },
  {
   "cell_type": "code",
   "execution_count": null,
   "metadata": {
    "colab": {},
    "colab_type": "code",
    "id": "d_ZcJ5cxxT-G"
   },
   "outputs": [],
   "source": [
    "df.to_csv('dataset_frequent10.csv', index=False)\n",
    "\n",
    "!cp dataset_frequent10.csv \"drive/My Drive/Masters_Project\""
   ]
  },
  {
   "cell_type": "code",
   "execution_count": null,
   "metadata": {
    "colab": {
     "base_uri": "https://localhost:8080/",
     "height": 68
    },
    "colab_type": "code",
    "id": "RJlwm9Sj54Qc",
    "outputId": "457c9948-319b-420f-f7ca-247d3eb16888"
   },
   "outputs": [
    {
     "name": "stdout",
     "output_type": "stream",
     "text": [
      "77218\n",
      "['affiliated_with' 'authored_by' 'associated_concept' 'similarity' 'cites'\n",
      " 'associated_topic' 'Paper' 'Author' 'Institution' 'Concept']\n"
     ]
    }
   ],
   "source": [
    "print(len(pd.unique(df[['subject', 'object']].values.ravel('K'))))\n",
    "print(df.relation.unique())"
   ]
  }
 ],
 "metadata": {
  "colab": {
   "name": "Data_wrangle_KG.ipynb",
   "provenance": []
  },
  "kernelspec": {
   "display_name": "Python 3",
   "language": "python",
   "name": "python3"
  },
  "language_info": {
   "codemirror_mode": {
    "name": "ipython",
    "version": 3
   },
   "file_extension": ".py",
   "mimetype": "text/x-python",
   "name": "python",
   "nbconvert_exporter": "python",
   "pygments_lexer": "ipython3",
   "version": "3.7.1"
  }
 },
 "nbformat": 4,
 "nbformat_minor": 1
}
