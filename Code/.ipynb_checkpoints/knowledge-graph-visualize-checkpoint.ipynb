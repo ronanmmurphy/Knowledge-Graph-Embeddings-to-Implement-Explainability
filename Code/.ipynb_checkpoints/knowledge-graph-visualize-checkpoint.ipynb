{
 "cells": [
  {
   "cell_type": "code",
   "execution_count": 2,
   "metadata": {},
   "outputs": [],
   "source": [
    "import pandas as pd\n",
    "import numpy as np\n",
    "import networkx as nx"
   ]
  },
  {
   "cell_type": "code",
   "execution_count": 3,
   "metadata": {
    "scrolled": true
   },
   "outputs": [
    {
     "data": {
      "text/plain": [
       "(2343611, 3)"
      ]
     },
     "execution_count": 3,
     "metadata": {},
     "output_type": "execute_result"
    }
   ],
   "source": [
    "\n",
    "df = pd.read_csv(\"../input/dataset/dataset_frequent.csv\")\n",
    "df.shape\n"
   ]
  },
  {
   "cell_type": "code",
   "execution_count": 4,
   "metadata": {},
   "outputs": [
    {
     "data": {
      "text/html": [
       "<div>\n",
       "<style scoped>\n",
       "    .dataframe tbody tr th:only-of-type {\n",
       "        vertical-align: middle;\n",
       "    }\n",
       "\n",
       "    .dataframe tbody tr th {\n",
       "        vertical-align: top;\n",
       "    }\n",
       "\n",
       "    .dataframe thead th {\n",
       "        text-align: right;\n",
       "    }\n",
       "</style>\n",
       "<table border=\"1\" class=\"dataframe\">\n",
       "  <thead>\n",
       "    <tr style=\"text-align: right;\">\n",
       "      <th></th>\n",
       "      <th>subject</th>\n",
       "      <th>relation</th>\n",
       "      <th>object</th>\n",
       "    </tr>\n",
       "  </thead>\n",
       "  <tbody>\n",
       "    <tr>\n",
       "      <th>0</th>\n",
       "      <td>1d304ff5-6f22-40e7-83c4-a40cc6b40af2</td>\n",
       "      <td>affiliated_with</td>\n",
       "      <td>483b277e-323a-4ddc-bba7-ec3675b73d25</td>\n",
       "    </tr>\n",
       "    <tr>\n",
       "      <th>1</th>\n",
       "      <td>2520933a-b976-4efd-89d6-46ed6a10e8f8</td>\n",
       "      <td>affiliated_with</td>\n",
       "      <td>9e2b25d9-bbb0-4b9a-8b24-38a4324d16c9</td>\n",
       "    </tr>\n",
       "    <tr>\n",
       "      <th>2</th>\n",
       "      <td>36ef0506-914b-41ac-9877-8a9bdbacd838</td>\n",
       "      <td>affiliated_with</td>\n",
       "      <td>2fda407d-d315-4bf9-9e81-2112af6c028f</td>\n",
       "    </tr>\n",
       "    <tr>\n",
       "      <th>3</th>\n",
       "      <td>0a592ef4-dfd5-4a59-9fa0-2c0bc9bd1914</td>\n",
       "      <td>affiliated_with</td>\n",
       "      <td>19a07f3b-b6cb-43c3-a2c1-c696c8ee7bee</td>\n",
       "    </tr>\n",
       "    <tr>\n",
       "      <th>4</th>\n",
       "      <td>b3987bbd-9c22-47ee-a5f7-cc94767dd976</td>\n",
       "      <td>affiliated_with</td>\n",
       "      <td>b4e97a3b-2abb-406c-8fa5-9b5372b0e163</td>\n",
       "    </tr>\n",
       "  </tbody>\n",
       "</table>\n",
       "</div>"
      ],
      "text/plain": [
       "                                subject         relation  \\\n",
       "0  1d304ff5-6f22-40e7-83c4-a40cc6b40af2  affiliated_with   \n",
       "1  2520933a-b976-4efd-89d6-46ed6a10e8f8  affiliated_with   \n",
       "2  36ef0506-914b-41ac-9877-8a9bdbacd838  affiliated_with   \n",
       "3  0a592ef4-dfd5-4a59-9fa0-2c0bc9bd1914  affiliated_with   \n",
       "4  b3987bbd-9c22-47ee-a5f7-cc94767dd976  affiliated_with   \n",
       "\n",
       "                                 object  \n",
       "0  483b277e-323a-4ddc-bba7-ec3675b73d25  \n",
       "1  9e2b25d9-bbb0-4b9a-8b24-38a4324d16c9  \n",
       "2  2fda407d-d315-4bf9-9e81-2112af6c028f  \n",
       "3  19a07f3b-b6cb-43c3-a2c1-c696c8ee7bee  \n",
       "4  b4e97a3b-2abb-406c-8fa5-9b5372b0e163  "
      ]
     },
     "execution_count": 4,
     "metadata": {},
     "output_type": "execute_result"
    }
   ],
   "source": [
    "df.head()"
   ]
  },
  {
   "cell_type": "code",
   "execution_count": null,
   "metadata": {},
   "outputs": [],
   "source": [
    "#dd.head()\n",
    "ss= df[df['relation'].isin([\"associated_concept\"])]\n",
    "#dd= df[df['relation'].isin([\"Concept\"])]\n",
    "ff = ss[ss['subject'].isin([\"42636eff-3539-4b63-b9b8-5f8dc9f2b2dd\"])]\n",
    "\n",
    "ff"
   ]
  },
  {
   "cell_type": "code",
   "execution_count": 13,
   "metadata": {},
   "outputs": [],
   "source": [
    "pp = ss[ss['object'].isin([\"80e6414d-9c65-43e1-ab4f-e5efb4b477b9\",\"d54e82db-cf32-463b-9711-d707d627c411\"])]"
   ]
  },
  {
   "cell_type": "code",
   "execution_count": 75,
   "metadata": {},
   "outputs": [],
   "source": [
    "new = {'subject':'db81bece-e5f3-45f0-9044-3085afc4c739', 'relation':'associated_concept','object':'6197fea5-26eb-4c10-aee3-4d772d29fd8f'}\n",
    "ee = ee.append(new, ignore_index=True)"
   ]
  },
  {
   "cell_type": "code",
   "execution_count": 77,
   "metadata": {},
   "outputs": [
    {
     "data": {
      "text/html": [
       "<div>\n",
       "<style scoped>\n",
       "    .dataframe tbody tr th:only-of-type {\n",
       "        vertical-align: middle;\n",
       "    }\n",
       "\n",
       "    .dataframe tbody tr th {\n",
       "        vertical-align: top;\n",
       "    }\n",
       "\n",
       "    .dataframe thead th {\n",
       "        text-align: right;\n",
       "    }\n",
       "</style>\n",
       "<table border=\"1\" class=\"dataframe\">\n",
       "  <thead>\n",
       "    <tr style=\"text-align: right;\">\n",
       "      <th></th>\n",
       "      <th>subject</th>\n",
       "      <th>relation</th>\n",
       "      <th>object</th>\n",
       "    </tr>\n",
       "  </thead>\n",
       "  <tbody>\n",
       "    <tr>\n",
       "      <th>0</th>\n",
       "      <td>db81bece-e5f3-45f0-9044-3085afc4c739</td>\n",
       "      <td>associated_concept</td>\n",
       "      <td>d54e82db-cf32-463b-9711-d707d627c411</td>\n",
       "    </tr>\n",
       "    <tr>\n",
       "      <th>1</th>\n",
       "      <td>db81bece-e5f3-45f0-9044-3085afc4c739</td>\n",
       "      <td>associated_concept</td>\n",
       "      <td>80e6414d-9c65-43e1-ab4f-e5efb4b477b9</td>\n",
       "    </tr>\n",
       "    <tr>\n",
       "      <th>2</th>\n",
       "      <td>d54e82db-cf32-463b-9711-d707d627c411</td>\n",
       "      <td>Concept</td>\n",
       "      <td>vaccine</td>\n",
       "    </tr>\n",
       "    <tr>\n",
       "      <th>3</th>\n",
       "      <td>80e6414d-9c65-43e1-ab4f-e5efb4b477b9</td>\n",
       "      <td>Concept</td>\n",
       "      <td>infection</td>\n",
       "    </tr>\n",
       "    <tr>\n",
       "      <th>4</th>\n",
       "      <td>42636eff-3539-4b63-b9b8-5f8dc9f2b2dd</td>\n",
       "      <td>associated_concept</td>\n",
       "      <td>80e6414d-9c65-43e1-ab4f-e5efb4b477b9</td>\n",
       "    </tr>\n",
       "    <tr>\n",
       "      <th>5</th>\n",
       "      <td>42636eff-3539-4b63-b9b8-5f8dc9f2b2dd</td>\n",
       "      <td>associated_concept</td>\n",
       "      <td>d54e82db-cf32-463b-9711-d707d627c411</td>\n",
       "    </tr>\n",
       "    <tr>\n",
       "      <th>6</th>\n",
       "      <td>42636eff-3539-4b63-b9b8-5f8dc9f2b2dd</td>\n",
       "      <td>associated_concept</td>\n",
       "      <td>6197fea5-26eb-4c10-aee3-4d772d29fd8f</td>\n",
       "    </tr>\n",
       "    <tr>\n",
       "      <th>7</th>\n",
       "      <td>6197fea5-26eb-4c10-aee3-4d772d29fd8f</td>\n",
       "      <td>Concept</td>\n",
       "      <td>respiratory complaint</td>\n",
       "    </tr>\n",
       "    <tr>\n",
       "      <th>8</th>\n",
       "      <td>db81bece-e5f3-45f0-9044-3085afc4c739</td>\n",
       "      <td>associated_concept</td>\n",
       "      <td>6197fea5-26eb-4c10-aee3-4d772d29fd8f</td>\n",
       "    </tr>\n",
       "  </tbody>\n",
       "</table>\n",
       "</div>"
      ],
      "text/plain": [
       "                                subject            relation  \\\n",
       "0  db81bece-e5f3-45f0-9044-3085afc4c739  associated_concept   \n",
       "1  db81bece-e5f3-45f0-9044-3085afc4c739  associated_concept   \n",
       "2  d54e82db-cf32-463b-9711-d707d627c411             Concept   \n",
       "3  80e6414d-9c65-43e1-ab4f-e5efb4b477b9             Concept   \n",
       "4  42636eff-3539-4b63-b9b8-5f8dc9f2b2dd  associated_concept   \n",
       "5  42636eff-3539-4b63-b9b8-5f8dc9f2b2dd  associated_concept   \n",
       "6  42636eff-3539-4b63-b9b8-5f8dc9f2b2dd  associated_concept   \n",
       "7  6197fea5-26eb-4c10-aee3-4d772d29fd8f             Concept   \n",
       "8  db81bece-e5f3-45f0-9044-3085afc4c739  associated_concept   \n",
       "\n",
       "                                 object  \n",
       "0  d54e82db-cf32-463b-9711-d707d627c411  \n",
       "1  80e6414d-9c65-43e1-ab4f-e5efb4b477b9  \n",
       "2                               vaccine  \n",
       "3                             infection  \n",
       "4  80e6414d-9c65-43e1-ab4f-e5efb4b477b9  \n",
       "5  d54e82db-cf32-463b-9711-d707d627c411  \n",
       "6  6197fea5-26eb-4c10-aee3-4d772d29fd8f  \n",
       "7                 respiratory complaint  \n",
       "8  6197fea5-26eb-4c10-aee3-4d772d29fd8f  "
      ]
     },
     "execution_count": 77,
     "metadata": {},
     "output_type": "execute_result"
    }
   ],
   "source": [
    "\n",
    "ee\n",
    "ee = ee.drop([8])\n",
    "ee = ee.reset_index(drop=True)\n",
    "ee\n"
   ]
  },
  {
   "cell_type": "code",
   "execution_count": 14,
   "metadata": {},
   "outputs": [],
   "source": [
    "h = pp['subject'].value_counts().to_dict()"
   ]
  },
  {
   "cell_type": "code",
   "execution_count": 16,
   "metadata": {},
   "outputs": [
    {
     "name": "stdout",
     "output_type": "stream",
     "text": [
      "22014\n"
     ]
    }
   ],
   "source": [
    "prd = dict((k, v) for k, v in h.items() if v <= 3)\n",
    "print(len(prd))"
   ]
  },
  {
   "cell_type": "code",
   "execution_count": null,
   "metadata": {},
   "outputs": [],
   "source": [
    "#df.head()\n",
    "ss =df.sample(200)"
   ]
  },
  {
   "cell_type": "code",
   "execution_count": null,
   "metadata": {},
   "outputs": [],
   "source": [
    "frames = [dd,ss]\n",
    "result = pd.concat(frames)"
   ]
  },
  {
   "cell_type": "code",
   "execution_count": 36,
   "metadata": {},
   "outputs": [],
   "source": [
    "# create a directed-graph from a dataframe\n",
    "G=nx.from_pandas_edgelist(dd, \"subject\", \"object\", \n",
    "                          edge_attr=\"relation\", create_using=nx.MultiDiGraph())"
   ]
  },
  {
   "cell_type": "code",
   "execution_count": 35,
   "metadata": {},
   "outputs": [],
   "source": [
    "import networkx as nx\n",
    "import matplotlib.pyplot as plt\n",
    "%matplotlib inline"
   ]
  },
  {
   "cell_type": "code",
   "execution_count": 39,
   "metadata": {
    "scrolled": true
   },
   "outputs": [
    {
     "data": {
      "text/plain": [
       "<function matplotlib.pyplot.show(*args, **kw)>"
      ]
     },
     "execution_count": 39,
     "metadata": {},
     "output_type": "execute_result"
    },
    {
     "data": {
      "image/png": "[encoded data removed]",
      "text/plain": [
       "<Figure size 1080x1080 with 1 Axes>"
      ]
     },
     "metadata": {},
     "output_type": "display_data"
    }
   ],
   "source": [
    "plt.figure(figsize = (15,15))\n",
    "pos = nx.spring_layout(G,k = 0.5)\n",
    "\n",
    "dd['relation']=pd.Categorical(dd['relation'])\n",
    "dd['relation'].cat.codes\n",
    "\n",
    "\n",
    "nx.draw(G, with_labels = False, node_size=200,node_color = 'skyblue', edge_cmap =plt.cm.Set1, edge_color=dd['relation'].cat.codes,pos = pos)\n",
    "node_labels = {i: i[:5] for i in G.nodes}\n",
    "nx.draw_networkx_labels(G, pos, labels=node_labels, font_size=8)\n",
    "plt.show"
   ]
  },
  {
   "cell_type": "code",
   "execution_count": null,
   "metadata": {},
   "outputs": [],
   "source": [
    "#take a single text entity and show links\n",
    "c = df[df['subject']=='SARS']\n",
    "d = df[df['object']=='SARS']\n",
    "#df[df['relation']=='Concept']\n",
    "frames = [c,d]\n",
    "result = pd.concat(frames)"
   ]
  },
  {
   "cell_type": "code",
   "execution_count": 14,
   "metadata": {},
   "outputs": [
    {
     "data": {
      "text/html": [
       "<div>\n",
       "<style scoped>\n",
       "    .dataframe tbody tr th:only-of-type {\n",
       "        vertical-align: middle;\n",
       "    }\n",
       "\n",
       "    .dataframe tbody tr th {\n",
       "        vertical-align: top;\n",
       "    }\n",
       "\n",
       "    .dataframe thead th {\n",
       "        text-align: right;\n",
       "    }\n",
       "</style>\n",
       "<table border=\"1\" class=\"dataframe\">\n",
       "  <thead>\n",
       "    <tr style=\"text-align: right;\">\n",
       "      <th></th>\n",
       "      <th>subject</th>\n",
       "      <th>relation</th>\n",
       "      <th>object</th>\n",
       "    </tr>\n",
       "  </thead>\n",
       "  <tbody>\n",
       "    <tr>\n",
       "      <th>864</th>\n",
       "      <td>c31970cb-3013-459e-844f-f47a462690c5</td>\n",
       "      <td>affiliated_with</td>\n",
       "      <td>1eb18d17-7fa9-4841-a5e0-d1a09242e5b3</td>\n",
       "    </tr>\n",
       "    <tr>\n",
       "      <th>1652</th>\n",
       "      <td>c31970cb-3013-459e-844f-f47a462690c5</td>\n",
       "      <td>affiliated_with</td>\n",
       "      <td>1ffa9e58-a466-48ff-9a55-efff6f580ea3</td>\n",
       "    </tr>\n",
       "  </tbody>\n",
       "</table>\n",
       "</div>"
      ],
      "text/plain": [
       "                                   subject         relation  \\\n",
       "864   c31970cb-3013-459e-844f-f47a462690c5  affiliated_with   \n",
       "1652  c31970cb-3013-459e-844f-f47a462690c5  affiliated_with   \n",
       "\n",
       "                                    object  \n",
       "864   1eb18d17-7fa9-4841-a5e0-d1a09242e5b3  \n",
       "1652  1ffa9e58-a466-48ff-9a55-efff6f580ea3  "
      ]
     },
     "execution_count": 14,
     "metadata": {},
     "output_type": "execute_result"
    }
   ],
   "source": [
    "c = df[df['object']=='1eb18d17-7fa9-4841-a5e0-d1a09242e5b3']\n",
    "#c\n",
    "d = df[df['object']=='1ffa9e58-a466-48ff-9a55-efff6f580ea3']\n",
    "\n",
    "frames = [c,d]\n",
    "result = pd.concat(frames)\n",
    "result\n"
   ]
  },
  {
   "cell_type": "code",
   "execution_count": 60,
   "metadata": {},
   "outputs": [],
   "source": [
    "papers = ['fd80e1ee-221e-412f-812b-b4dbdf88cd64','9140875b-9d48-437a-9a7c-a54e045321a3','12a940da-0455-4924-ac37-c2a26a59e0e0','a96071ab-756a-4ada-b464-2754d51f393a','2dbf756f-8d79-476e-8041-d98cff4c4308']\n",
    "result = result[result['subject'].isin(papers)]"
   ]
  },
  {
   "cell_type": "code",
   "execution_count": 61,
   "metadata": {},
   "outputs": [
    {
     "data": {
      "text/html": [
       "<div>\n",
       "<style scoped>\n",
       "    .dataframe tbody tr th:only-of-type {\n",
       "        vertical-align: middle;\n",
       "    }\n",
       "\n",
       "    .dataframe tbody tr th {\n",
       "        vertical-align: top;\n",
       "    }\n",
       "\n",
       "    .dataframe thead th {\n",
       "        text-align: right;\n",
       "    }\n",
       "</style>\n",
       "<table border=\"1\" class=\"dataframe\">\n",
       "  <thead>\n",
       "    <tr style=\"text-align: right;\">\n",
       "      <th></th>\n",
       "      <th>subject</th>\n",
       "      <th>relation</th>\n",
       "      <th>object</th>\n",
       "    </tr>\n",
       "  </thead>\n",
       "  <tbody>\n",
       "    <tr>\n",
       "      <th>42691</th>\n",
       "      <td>fd80e1ee-221e-412f-812b-b4dbdf88cd64</td>\n",
       "      <td>authored_by</td>\n",
       "      <td>1c5b02a6-cac4-40d6-9299-02d405f82777</td>\n",
       "    </tr>\n",
       "    <tr>\n",
       "      <th>46865</th>\n",
       "      <td>9140875b-9d48-437a-9a7c-a54e045321a3</td>\n",
       "      <td>authored_by</td>\n",
       "      <td>1c5b02a6-cac4-40d6-9299-02d405f82777</td>\n",
       "    </tr>\n",
       "    <tr>\n",
       "      <th>47250</th>\n",
       "      <td>12a940da-0455-4924-ac37-c2a26a59e0e0</td>\n",
       "      <td>authored_by</td>\n",
       "      <td>1c5b02a6-cac4-40d6-9299-02d405f82777</td>\n",
       "    </tr>\n",
       "    <tr>\n",
       "      <th>58399</th>\n",
       "      <td>a96071ab-756a-4ada-b464-2754d51f393a</td>\n",
       "      <td>authored_by</td>\n",
       "      <td>1c5b02a6-cac4-40d6-9299-02d405f82777</td>\n",
       "    </tr>\n",
       "    <tr>\n",
       "      <th>63730</th>\n",
       "      <td>2dbf756f-8d79-476e-8041-d98cff4c4308</td>\n",
       "      <td>authored_by</td>\n",
       "      <td>1c5b02a6-cac4-40d6-9299-02d405f82777</td>\n",
       "    </tr>\n",
       "    <tr>\n",
       "      <th>48929</th>\n",
       "      <td>12a940da-0455-4924-ac37-c2a26a59e0e0</td>\n",
       "      <td>authored_by</td>\n",
       "      <td>a58a72a4-2a78-4ae1-a959-d2b26b0fb6ef</td>\n",
       "    </tr>\n",
       "    <tr>\n",
       "      <th>51262</th>\n",
       "      <td>fd80e1ee-221e-412f-812b-b4dbdf88cd64</td>\n",
       "      <td>authored_by</td>\n",
       "      <td>a58a72a4-2a78-4ae1-a959-d2b26b0fb6ef</td>\n",
       "    </tr>\n",
       "    <tr>\n",
       "      <th>73493</th>\n",
       "      <td>2dbf756f-8d79-476e-8041-d98cff4c4308</td>\n",
       "      <td>authored_by</td>\n",
       "      <td>a58a72a4-2a78-4ae1-a959-d2b26b0fb6ef</td>\n",
       "    </tr>\n",
       "    <tr>\n",
       "      <th>74138</th>\n",
       "      <td>9140875b-9d48-437a-9a7c-a54e045321a3</td>\n",
       "      <td>authored_by</td>\n",
       "      <td>a58a72a4-2a78-4ae1-a959-d2b26b0fb6ef</td>\n",
       "    </tr>\n",
       "    <tr>\n",
       "      <th>114947</th>\n",
       "      <td>a96071ab-756a-4ada-b464-2754d51f393a</td>\n",
       "      <td>authored_by</td>\n",
       "      <td>a58a72a4-2a78-4ae1-a959-d2b26b0fb6ef</td>\n",
       "    </tr>\n",
       "  </tbody>\n",
       "</table>\n",
       "</div>"
      ],
      "text/plain": [
       "                                     subject     relation  \\\n",
       "42691   fd80e1ee-221e-412f-812b-b4dbdf88cd64  authored_by   \n",
       "46865   9140875b-9d48-437a-9a7c-a54e045321a3  authored_by   \n",
       "47250   12a940da-0455-4924-ac37-c2a26a59e0e0  authored_by   \n",
       "58399   a96071ab-756a-4ada-b464-2754d51f393a  authored_by   \n",
       "63730   2dbf756f-8d79-476e-8041-d98cff4c4308  authored_by   \n",
       "48929   12a940da-0455-4924-ac37-c2a26a59e0e0  authored_by   \n",
       "51262   fd80e1ee-221e-412f-812b-b4dbdf88cd64  authored_by   \n",
       "73493   2dbf756f-8d79-476e-8041-d98cff4c4308  authored_by   \n",
       "74138   9140875b-9d48-437a-9a7c-a54e045321a3  authored_by   \n",
       "114947  a96071ab-756a-4ada-b464-2754d51f393a  authored_by   \n",
       "\n",
       "                                      object  \n",
       "42691   1c5b02a6-cac4-40d6-9299-02d405f82777  \n",
       "46865   1c5b02a6-cac4-40d6-9299-02d405f82777  \n",
       "47250   1c5b02a6-cac4-40d6-9299-02d405f82777  \n",
       "58399   1c5b02a6-cac4-40d6-9299-02d405f82777  \n",
       "63730   1c5b02a6-cac4-40d6-9299-02d405f82777  \n",
       "48929   a58a72a4-2a78-4ae1-a959-d2b26b0fb6ef  \n",
       "51262   a58a72a4-2a78-4ae1-a959-d2b26b0fb6ef  \n",
       "73493   a58a72a4-2a78-4ae1-a959-d2b26b0fb6ef  \n",
       "74138   a58a72a4-2a78-4ae1-a959-d2b26b0fb6ef  \n",
       "114947  a58a72a4-2a78-4ae1-a959-d2b26b0fb6ef  "
      ]
     },
     "execution_count": 61,
     "metadata": {},
     "output_type": "execute_result"
    }
   ],
   "source": [
    "result"
   ]
  },
  {
   "cell_type": "code",
   "execution_count": 15,
   "metadata": {},
   "outputs": [],
   "source": [
    "new = {'subject':'1eb18d17-7fa9-4841-a5e0-d1a09242e5b3', 'relation':'Institute','object':'Centro de Pesquisas Aggeu Magalhães - FIOCRUZ'}\n",
    "result = result.append(new, ignore_index=True)\n",
    "new1 = {'subject':'1ffa9e58-a466-48ff-9a55-efff6f580ea3', 'relation':'Institute','object':'CCD Secretaria da Saúde - SÃo Paulo'}\n",
    "result = result.append(new1, ignore_index=True)"
   ]
  },
  {
   "cell_type": "code",
   "execution_count": 16,
   "metadata": {},
   "outputs": [
    {
     "data": {
      "text/html": [
       "<div>\n",
       "<style scoped>\n",
       "    .dataframe tbody tr th:only-of-type {\n",
       "        vertical-align: middle;\n",
       "    }\n",
       "\n",
       "    .dataframe tbody tr th {\n",
       "        vertical-align: top;\n",
       "    }\n",
       "\n",
       "    .dataframe thead th {\n",
       "        text-align: right;\n",
       "    }\n",
       "</style>\n",
       "<table border=\"1\" class=\"dataframe\">\n",
       "  <thead>\n",
       "    <tr style=\"text-align: right;\">\n",
       "      <th></th>\n",
       "      <th>subject</th>\n",
       "      <th>relation</th>\n",
       "      <th>object</th>\n",
       "    </tr>\n",
       "  </thead>\n",
       "  <tbody>\n",
       "    <tr>\n",
       "      <th>0</th>\n",
       "      <td>c31970cb-3013-459e-844f-f47a462690c5</td>\n",
       "      <td>affiliated_with</td>\n",
       "      <td>1eb18d17-7fa9-4841-a5e0-d1a09242e5b3</td>\n",
       "    </tr>\n",
       "    <tr>\n",
       "      <th>1</th>\n",
       "      <td>c31970cb-3013-459e-844f-f47a462690c5</td>\n",
       "      <td>affiliated_with</td>\n",
       "      <td>1ffa9e58-a466-48ff-9a55-efff6f580ea3</td>\n",
       "    </tr>\n",
       "    <tr>\n",
       "      <th>2</th>\n",
       "      <td>1eb18d17-7fa9-4841-a5e0-d1a09242e5b3</td>\n",
       "      <td>Institute</td>\n",
       "      <td>Centro de Pesquisas Aggeu Magalhães - FIOCRUZ</td>\n",
       "    </tr>\n",
       "    <tr>\n",
       "      <th>3</th>\n",
       "      <td>1ffa9e58-a466-48ff-9a55-efff6f580ea3</td>\n",
       "      <td>Institute</td>\n",
       "      <td>CCD Secretaria da Saúde - SÃo Paulo</td>\n",
       "    </tr>\n",
       "  </tbody>\n",
       "</table>\n",
       "</div>"
      ],
      "text/plain": [
       "                                subject         relation  \\\n",
       "0  c31970cb-3013-459e-844f-f47a462690c5  affiliated_with   \n",
       "1  c31970cb-3013-459e-844f-f47a462690c5  affiliated_with   \n",
       "2  1eb18d17-7fa9-4841-a5e0-d1a09242e5b3        Institute   \n",
       "3  1ffa9e58-a466-48ff-9a55-efff6f580ea3        Institute   \n",
       "\n",
       "                                          object  \n",
       "0           1eb18d17-7fa9-4841-a5e0-d1a09242e5b3  \n",
       "1           1ffa9e58-a466-48ff-9a55-efff6f580ea3  \n",
       "2  Centro de Pesquisas Aggeu Magalhães - FIOCRUZ  \n",
       "3            CCD Secretaria da Saúde - SÃo Paulo  "
      ]
     },
     "execution_count": 16,
     "metadata": {},
     "output_type": "execute_result"
    }
   ],
   "source": [
    "result"
   ]
  },
  {
   "cell_type": "code",
   "execution_count": 64,
   "metadata": {},
   "outputs": [],
   "source": [
    "new_row = {'subject':'1c5b02a6-cac4-40d6-9299-02d405f82777', 'relation':'duplicateof','object':'a58a72a4-2a78-4ae1-a959-d2b26b0fb6ef'}\n",
    "result = result.append(new_row, ignore_index=True)\n",
    "new_row1 = {'subject':'a58a72a4-2a78-4ae1-a959-d2b26b0fb6ef', 'relation':'duplicateof','object':'1c5b02a6-cac4-40d6-9299-02d405f82777'}\n",
    "result = result.append(new_row1, ignore_index=True)\n",
    "\n",
    "new_row = {'subject':'1c5b02a6-cac4-40d6-9299-02d405f82777', 'relation':'duplicateof','object':'a58a72a4-2a78-4ae1-a959-d2b26b0fb6ef'}\n",
    "result = result.append(new_row, ignore_index=True)\n",
    "new_row1 = {'subject':'a58a72a4-2a78-4ae1-a959-d2b26b0fb6ef', 'relation':'duplicateof','object':'1c5b02a6-cac4-40d6-9299-02d405f82777'}\n",
    "result = result.append(new_row1, ignore_index=True)"
   ]
  },
  {
   "cell_type": "code",
   "execution_count": 65,
   "metadata": {},
   "outputs": [],
   "source": [
    "new_row3 = {'subject':'C Tremblay', 'relation':'duplicateof','object':'CÉCILE Tremblay'}\n",
    "result = result.append(new_row3, ignore_index=True)\n",
    "new_row4 = {'subject':'CÉCILE Tremblay', 'relation':'duplicateof','object':'C Tremblay'}\n",
    "result = result.append(new_row4, ignore_index=True)"
   ]
  },
  {
   "cell_type": "code",
   "execution_count": null,
   "metadata": {},
   "outputs": [],
   "source": [
    "len(result)\n",
    "result = result.drop([36,37])\n",
    "result = result.reset_index(drop=True)\n",
    "result\n"
   ]
  },
  {
   "cell_type": "code",
   "execution_count": null,
   "metadata": {},
   "outputs": [],
   "source": [
    "result.iloc[: , [0, 2]]"
   ]
  },
  {
   "cell_type": "code",
   "execution_count": 78,
   "metadata": {},
   "outputs": [],
   "source": [
    "G = nx.from_pandas_edgelist(ee, \"subject\", \"object\", \n",
    "                          edge_attr=\"relation\", create_using=nx.MultiDiGraph())"
   ]
  },
  {
   "cell_type": "code",
   "execution_count": 88,
   "metadata": {},
   "outputs": [
    {
     "data": {
      "text/plain": [
       "<function matplotlib.pyplot.show(*args, **kw)>"
      ]
     },
     "execution_count": 88,
     "metadata": {},
     "output_type": "execute_result"
    },
    {
     "data": {
      "image/png": "[encoded data removed]",
      "text/plain": [
       "<Figure size 792x792 with 1 Axes>"
      ]
     },
     "metadata": {},
     "output_type": "display_data"
    }
   ],
   "source": [
    "plt.figure(figsize = (11,11))\n",
    "pos = nx.spring_layout(G, k=0.7)\n",
    "\n",
    "ee['relation']=pd.Categorical(ee['relation'])\n",
    "ee['relation'].cat.codes\n",
    "\n",
    "\n",
    "\n",
    "\n",
    "\n",
    "nx.draw(G, with_labels = False, node_size=200,node_color = 'skyblue', edge_cmap =plt.cm.Set1, edge_color=ee['relation'].cat.codes,pos = pos)\n",
    "\n",
    "nx.draw_networkx_labels(G, pos, font_size=11)\n",
    "edge_labels = nx.draw_networkx_edge_labels(G, pos=pos,font_size=8,alpha=0.6)\n",
    "plt.show"
   ]
  }
 ],
 "metadata": {
  "kernelspec": {
   "display_name": "Python 3",
   "language": "python",
   "name": "python3"
  },
  "language_info": {
   "codemirror_mode": {
    "name": "ipython",
    "version": 3
   },
   "file_extension": ".py",
   "mimetype": "text/x-python",
   "name": "python",
   "nbconvert_exporter": "python",
   "pygments_lexer": "ipython3",
   "version": "3.7.1"
  }
 },
 "nbformat": 4,
 "nbformat_minor": 4
}
